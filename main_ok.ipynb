{
 "cells": [
  {
   "cell_type": "code",
   "execution_count": 13,
   "metadata": {
    "collapsed": false
   },
   "outputs": [
    {
     "name": "stdout",
     "output_type": "stream",
     "text": [
      "Requirement already satisfied: pandas in c:\\users\\sa\\.virtualenvs\\polina_excel_batl\\lib\\site-packages (1.5.1)\n",
      "Requirement already satisfied: numpy>=1.21.0 in c:\\users\\sa\\.virtualenvs\\polina_excel_batl\\lib\\site-packages (from pandas) (1.23.4)\n",
      "Requirement already satisfied: python-dateutil>=2.8.1 in c:\\users\\sa\\.virtualenvs\\polina_excel_batl\\lib\\site-packages (from pandas) (2.8.2)\n",
      "Requirement already satisfied: pytz>=2020.1 in c:\\users\\sa\\.virtualenvs\\polina_excel_batl\\lib\\site-packages (from pandas) (2022.5)\n",
      "Requirement already satisfied: six>=1.5 in c:\\users\\sa\\.virtualenvs\\polina_excel_batl\\lib\\site-packages (from python-dateutil>=2.8.1->pandas) (1.16.0)\n",
      "Requirement already satisfied: openpyxl in c:\\users\\sa\\.virtualenvs\\polina_excel_batl\\lib\\site-packages (3.0.10)\n",
      "Requirement already satisfied: et-xmlfile in c:\\users\\sa\\.virtualenvs\\polina_excel_batl\\lib\\site-packages (from openpyxl) (1.1.0)\n",
      "Requirement already satisfied: dataframe_image in c:\\users\\sa\\.virtualenvs\\polina_excel_batl\\lib\\site-packages (0.1.3)\n",
      "Requirement already satisfied: matplotlib>=3.1 in c:\\users\\sa\\.virtualenvs\\polina_excel_batl\\lib\\site-packages (from dataframe_image) (3.6.1)\n",
      "Requirement already satisfied: nbconvert>=5 in c:\\users\\sa\\.virtualenvs\\polina_excel_batl\\lib\\site-packages (from dataframe_image) (7.2.2)\n",
      "Requirement already satisfied: requests in c:\\users\\sa\\.virtualenvs\\polina_excel_batl\\lib\\site-packages (from dataframe_image) (2.28.1)\n",
      "Requirement already satisfied: packaging in c:\\users\\sa\\.virtualenvs\\polina_excel_batl\\lib\\site-packages (from dataframe_image) (21.3)\n",
      "Requirement already satisfied: mistune in c:\\users\\sa\\.virtualenvs\\polina_excel_batl\\lib\\site-packages (from dataframe_image) (2.0.4)\n",
      "Requirement already satisfied: pandas>=0.24 in c:\\users\\sa\\.virtualenvs\\polina_excel_batl\\lib\\site-packages (from dataframe_image) (1.5.1)\n",
      "Requirement already satisfied: beautifulsoup4 in c:\\users\\sa\\.virtualenvs\\polina_excel_batl\\lib\\site-packages (from dataframe_image) (4.11.1)\n",
      "Requirement already satisfied: aiohttp in c:\\users\\sa\\.virtualenvs\\polina_excel_batl\\lib\\site-packages (from dataframe_image) (3.8.3)\n",
      "Requirement already satisfied: contourpy>=1.0.1 in c:\\users\\sa\\.virtualenvs\\polina_excel_batl\\lib\\site-packages (from matplotlib>=3.1->dataframe_image) (1.0.5)\n",
      "Requirement already satisfied: fonttools>=4.22.0 in c:\\users\\sa\\.virtualenvs\\polina_excel_batl\\lib\\site-packages (from matplotlib>=3.1->dataframe_image) (4.37.4)\n",
      "Requirement already satisfied: kiwisolver>=1.0.1 in c:\\users\\sa\\.virtualenvs\\polina_excel_batl\\lib\\site-packages (from matplotlib>=3.1->dataframe_image) (1.4.4)\n",
      "Requirement already satisfied: python-dateutil>=2.7 in c:\\users\\sa\\.virtualenvs\\polina_excel_batl\\lib\\site-packages (from matplotlib>=3.1->dataframe_image) (2.8.2)\n",
      "Requirement already satisfied: pyparsing>=2.2.1 in c:\\users\\sa\\.virtualenvs\\polina_excel_batl\\lib\\site-packages (from matplotlib>=3.1->dataframe_image) (3.0.9)\n",
      "Requirement already satisfied: numpy>=1.19 in c:\\users\\sa\\.virtualenvs\\polina_excel_batl\\lib\\site-packages (from matplotlib>=3.1->dataframe_image) (1.23.4)\n",
      "Requirement already satisfied: cycler>=0.10 in c:\\users\\sa\\.virtualenvs\\polina_excel_batl\\lib\\site-packages (from matplotlib>=3.1->dataframe_image) (0.11.0)\n",
      "Requirement already satisfied: pillow>=6.2.0 in c:\\users\\sa\\.virtualenvs\\polina_excel_batl\\lib\\site-packages (from matplotlib>=3.1->dataframe_image) (9.2.0)\n",
      "Requirement already satisfied: pandocfilters>=1.4.1 in c:\\users\\sa\\.virtualenvs\\polina_excel_batl\\lib\\site-packages (from nbconvert>=5->dataframe_image) (1.5.0)\n",
      "Requirement already satisfied: bleach in c:\\users\\sa\\.virtualenvs\\polina_excel_batl\\lib\\site-packages (from nbconvert>=5->dataframe_image) (5.0.1)\n",
      "Requirement already satisfied: nbformat>=5.1 in c:\\users\\sa\\.virtualenvs\\polina_excel_batl\\lib\\site-packages (from nbconvert>=5->dataframe_image) (5.7.0)\n",
      "Requirement already satisfied: tinycss2 in c:\\users\\sa\\.virtualenvs\\polina_excel_batl\\lib\\site-packages (from nbconvert>=5->dataframe_image) (1.2.1)\n",
      "Requirement already satisfied: markupsafe>=2.0 in c:\\users\\sa\\.virtualenvs\\polina_excel_batl\\lib\\site-packages (from nbconvert>=5->dataframe_image) (2.1.1)\n",
      "Requirement already satisfied: nbclient>=0.5.0 in c:\\users\\sa\\.virtualenvs\\polina_excel_batl\\lib\\site-packages (from nbconvert>=5->dataframe_image) (0.7.0)\n",
      "Requirement already satisfied: traitlets>=5.0 in c:\\users\\sa\\.virtualenvs\\polina_excel_batl\\lib\\site-packages (from nbconvert>=5->dataframe_image) (5.5.0)\n",
      "Requirement already satisfied: defusedxml in c:\\users\\sa\\.virtualenvs\\polina_excel_batl\\lib\\site-packages (from nbconvert>=5->dataframe_image) (0.7.1)\n",
      "Requirement already satisfied: pygments>=2.4.1 in c:\\users\\sa\\.virtualenvs\\polina_excel_batl\\lib\\site-packages (from nbconvert>=5->dataframe_image) (2.13.0)\n",
      "Requirement already satisfied: jinja2>=3.0 in c:\\users\\sa\\.virtualenvs\\polina_excel_batl\\lib\\site-packages (from nbconvert>=5->dataframe_image) (3.1.2)\n",
      "Requirement already satisfied: jupyter-core>=4.7 in c:\\users\\sa\\.virtualenvs\\polina_excel_batl\\lib\\site-packages (from nbconvert>=5->dataframe_image) (4.11.2)\n",
      "Requirement already satisfied: jupyterlab-pygments in c:\\users\\sa\\.virtualenvs\\polina_excel_batl\\lib\\site-packages (from nbconvert>=5->dataframe_image) (0.2.2)\n",
      "Requirement already satisfied: pytz>=2020.1 in c:\\users\\sa\\.virtualenvs\\polina_excel_batl\\lib\\site-packages (from pandas>=0.24->dataframe_image) (2022.5)\n",
      "Requirement already satisfied: yarl<2.0,>=1.0 in c:\\users\\sa\\.virtualenvs\\polina_excel_batl\\lib\\site-packages (from aiohttp->dataframe_image) (1.8.1)\n",
      "Requirement already satisfied: aiosignal>=1.1.2 in c:\\users\\sa\\.virtualenvs\\polina_excel_batl\\lib\\site-packages (from aiohttp->dataframe_image) (1.2.0)\n",
      "Requirement already satisfied: attrs>=17.3.0 in c:\\users\\sa\\.virtualenvs\\polina_excel_batl\\lib\\site-packages (from aiohttp->dataframe_image) (22.1.0)\n",
      "Requirement already satisfied: frozenlist>=1.1.1 in c:\\users\\sa\\.virtualenvs\\polina_excel_batl\\lib\\site-packages (from aiohttp->dataframe_image) (1.3.1)\n",
      "Requirement already satisfied: multidict<7.0,>=4.5 in c:\\users\\sa\\.virtualenvs\\polina_excel_batl\\lib\\site-packages (from aiohttp->dataframe_image) (6.0.2)\n",
      "Requirement already satisfied: charset-normalizer<3.0,>=2.0 in c:\\users\\sa\\.virtualenvs\\polina_excel_batl\\lib\\site-packages (from aiohttp->dataframe_image) (2.1.1)\n",
      "Requirement already satisfied: async-timeout<5.0,>=4.0.0a3 in c:\\users\\sa\\.virtualenvs\\polina_excel_batl\\lib\\site-packages (from aiohttp->dataframe_image) (4.0.2)\n",
      "Requirement already satisfied: soupsieve>1.2 in c:\\users\\sa\\.virtualenvs\\polina_excel_batl\\lib\\site-packages (from beautifulsoup4->dataframe_image) (2.3.2.post1)\n",
      "Requirement already satisfied: idna<4,>=2.5 in c:\\users\\sa\\.virtualenvs\\polina_excel_batl\\lib\\site-packages (from requests->dataframe_image) (3.4)\n",
      "Requirement already satisfied: urllib3<1.27,>=1.21.1 in c:\\users\\sa\\.virtualenvs\\polina_excel_batl\\lib\\site-packages (from requests->dataframe_image) (1.26.12)\n",
      "Requirement already satisfied: certifi>=2017.4.17 in c:\\users\\sa\\.virtualenvs\\polina_excel_batl\\lib\\site-packages (from requests->dataframe_image) (2022.9.24)\n",
      "Requirement already satisfied: pywin32>=1.0 in c:\\users\\sa\\.virtualenvs\\polina_excel_batl\\lib\\site-packages (from jupyter-core>=4.7->nbconvert>=5->dataframe_image) (304)\n",
      "Requirement already satisfied: nest-asyncio in c:\\users\\sa\\.virtualenvs\\polina_excel_batl\\lib\\site-packages (from nbclient>=0.5.0->nbconvert>=5->dataframe_image) (1.5.6)\n",
      "Requirement already satisfied: jupyter-client>=6.1.5 in c:\\users\\sa\\.virtualenvs\\polina_excel_batl\\lib\\site-packages (from nbclient>=0.5.0->nbconvert>=5->dataframe_image) (7.4.3)\n",
      "Requirement already satisfied: jsonschema>=2.6 in c:\\users\\sa\\.virtualenvs\\polina_excel_batl\\lib\\site-packages (from nbformat>=5.1->nbconvert>=5->dataframe_image) (4.16.0)\n",
      "Requirement already satisfied: fastjsonschema in c:\\users\\sa\\.virtualenvs\\polina_excel_batl\\lib\\site-packages (from nbformat>=5.1->nbconvert>=5->dataframe_image) (2.16.2)\n",
      "Requirement already satisfied: six>=1.5 in c:\\users\\sa\\.virtualenvs\\polina_excel_batl\\lib\\site-packages (from python-dateutil>=2.7->matplotlib>=3.1->dataframe_image) (1.16.0)\n",
      "Requirement already satisfied: webencodings in c:\\users\\sa\\.virtualenvs\\polina_excel_batl\\lib\\site-packages (from bleach->nbconvert>=5->dataframe_image) (0.5.1)\n",
      "Requirement already satisfied: pyrsistent!=0.17.0,!=0.17.1,!=0.17.2,>=0.14.0 in c:\\users\\sa\\.virtualenvs\\polina_excel_batl\\lib\\site-packages (from jsonschema>=2.6->nbformat>=5.1->nbconvert>=5->dataframe_image) (0.18.1)\n",
      "Requirement already satisfied: entrypoints in c:\\users\\sa\\.virtualenvs\\polina_excel_batl\\lib\\site-packages (from jupyter-client>=6.1.5->nbclient>=0.5.0->nbconvert>=5->dataframe_image) (0.4)\n",
      "Requirement already satisfied: pyzmq>=23.0 in c:\\users\\sa\\.virtualenvs\\polina_excel_batl\\lib\\site-packages (from jupyter-client>=6.1.5->nbclient>=0.5.0->nbconvert>=5->dataframe_image) (24.0.1)\n",
      "Requirement already satisfied: tornado>=6.2 in c:\\users\\sa\\.virtualenvs\\polina_excel_batl\\lib\\site-packages (from jupyter-client>=6.1.5->nbclient>=0.5.0->nbconvert>=5->dataframe_image) (6.2)\n"
     ]
    }
   ],
   "source": [
    "!pip install pandas\n",
    "!pip install openpyxl\n",
    "!pip install dataframe_image"
   ]
  },
  {
   "cell_type": "code",
   "execution_count": 14,
   "metadata": {
    "collapsed": false
   },
   "outputs": [],
   "source": [
    "import pandas as pd\n",
    "import openpyxl\n",
    "import dataframe_image as dfi"
   ]
  },
  {
   "cell_type": "code",
   "execution_count": 18,
   "metadata": {
    "collapsed": false
   },
   "outputs": [
    {
     "name": "stdout",
     "output_type": "stream",
     "text": [
      "['AMPY.xlsx', 'AMPY.xlsx_modified_20102022 225313_for_df.xlsx', 'APA.xlsx', 'APA.xlsx_modified_20102022 225314_for_df.xlsx', 'AR.xlsx', 'AR.xlsx_modified_20102022 225315_for_df.xlsx', 'BATL.xlsx', 'BATL.xlsx_modified_20102022 225315_for_df.xlsx', 'BCEI.xlsx', 'BCEI.xlsx_modified_20102022 225316_for_df.xlsx', 'BRY.xlsx', 'BRY.xlsx_modified_20102022 225316_for_df.xlsx', 'BSM.xlsx', 'BSM.xlsx_modified_20102022 225317_for_df.xlsx', 'CDEV.xlsx', 'CDEV.xlsx_modified_20102022 225318_for_df.xlsx', 'CHK.xlsx', 'CHK.xlsx_modified_20102022 225319_for_df.xlsx', 'CLR.xlsx', 'CLR.xlsx_modified_20102022 225319_for_df.xlsx', 'CNX.xlsx', 'CNX.xlsx_modified_20102022 225320_for_df.xlsx', 'COG.xlsx', 'COG.xlsx_modified_20102022 225321_for_df.xlsx', 'COP.xlsx', 'COP.xlsx_modified_20102022 225322_for_df.xlsx', 'CPE.xlsx', 'CPE.xlsx_modified_20102022 225322_for_df.xlsx', 'CRBO.xlsx', 'CRBO.xlsx_modified_20102022 225323_for_df.xlsx', 'CRC.xlsx', 'CRC.xlsx_modified_20102022 225324_for_df.xlsx', 'CRK.xlsx', 'CRK.xlsx_modified_20102022 225325_for_df.xlsx', 'DEN.xlsx', 'DEN.xlsx_modified_20102022 225325_for_df.xlsx', 'DVN.xlsx', 'DVN.xlsx_modified_20102022 225326_for_df.xlsx', 'EGY.xlsx', 'EGY.xlsx_modified_20102022 225327_for_df.xlsx', 'EOG.xlsx', 'EOG.xlsx_modified_20102022 225327_for_df.xlsx', 'EQT.xlsx', 'EQT.xlsx_modified_20102022 225328_for_df.xlsx', 'ESTE.xlsx', 'ESTE.xlsx_modified_20102022 225329_for_df.xlsx', 'FANG.xlsx', 'FANG.xlsx_modified_20102022 225329_for_df.xlsx', 'GDP.xlsx', 'GDP.xlsx_modified_20102022 225330_for_df.xlsx', 'HES.xlsx', 'HES.xlsx_modified_20102022 225331_for_df.xlsx', 'LONE.xlsx', 'LONE.xlsx_modified_20102022 225332_for_df.xlsx', 'LPI.xlsx', 'LPI.xlsx_modified_20102022 225332_for_df.xlsx', 'MCF.xlsx', 'MCF.xlsx_modified_20102022 225333_for_df.xlsx', 'MGY.xlsx', 'MGY.xlsx_modified_20102022 225334_for_df.xlsx', 'MNRL.xlsx', 'MNRL.xlsx_modified_20102022 225335_for_df.xlsx', 'MRO.xlsx', 'MRO.xlsx_modified_20102022 225336_for_df.xlsx', 'MTDR.xlsx', 'MTDR.xlsx_modified_20102022 225336_for_df.xlsx', 'MUR.xlsx', 'MUR.xlsx_modified_20102022 225337_for_df.xlsx', 'NOG.xlsx', 'NOG.xlsx_modified_20102022 225338_for_df.xlsx', 'OAS.xlsx', 'OAS.xlsx_modified_20102022 225339_for_df.xlsx', 'OVV.xlsx', 'OVV.xlsx_modified_20102022 225339_for_df.xlsx', 'PDCE.xlsx', 'PDCE.xlsx_modified_20102022 225340_for_df.xlsx', 'PVAC.xlsx', 'PVAC.xlsx_modified_20102022 225341_for_df.xlsx', 'PXD.xlsx', 'PXD.xlsx_modified_20102022 225341_for_df.xlsx', 'REI.xlsx', 'REI.xlsx_modified_20102022 225342_for_df.xlsx', 'RRC.xlsx', 'RRC.xlsx_modified_20102022 225343_for_df.xlsx', 'SBOW.xlsx', 'SBOW.xlsx_modified_20102022 225343_for_df.xlsx', 'SD.xlsx', 'SD.xlsx_modified_20102022 225344_for_df.xlsx', 'SM.xlsx', 'SM.xlsx_modified_20102022 225345_for_df.xlsx', 'SWN.xlsx', 'SWN.xlsx_modified_20102022 225346_for_df.xlsx', 'TALO.xlsx', 'TALO.xlsx_modified_20102022 225346_for_df.xlsx', 'TPL.xlsx', 'TPL.xlsx_modified_20102022 225347_for_df.xlsx', 'VNOM.xlsx', 'VNOM.xlsx_modified_20102022 225348_for_df.xlsx', 'WLL.xlsx', 'WLL.xlsx_modified_20102022 225349_for_df.xlsx', 'WTI.xlsx', 'WTI.xlsx_modified_20102022 225349_for_df.xlsx', 'XEC.xlsx', 'XEC.xlsx_modified_20102022 225350_for_df.xlsx', 'XOG.xlsx', 'XOG.xlsx_modified_20102022 225351_for_df.xlsx', '¦Ъ¦-¦¬¦¦¦-8.xlsx', '¦Ъ¦-¦¬¦¦¦-8.xlsx_modified_20102022 225351_for_df.xlsx']\n",
      "\n",
      "всего файлов 108\n",
      "\n",
      "\n"
     ]
    }
   ],
   "source": [
    "import os\n",
    "path_to_excels = 'files/' # папка где файлы, на конце названия папки -> /\n",
    "excel_files = [excel_file for excel_file in os.listdir(path_to_excels) if excel_file.endswith('.xlsx')]\n",
    "print(excel_files)\n",
    "print(f'\\nвсего файлов {len(excel_files)}')\n",
    "print('\\n')"
   ]
  },
  {
   "cell_type": "code",
   "execution_count": 16,
   "metadata": {
    "collapsed": false
   },
   "outputs": [],
   "source": [
    "from datetime import datetime\n",
    "\n",
    "for file in excel_files:\n",
    "    path_to_single_file = path_to_excels+file\n",
    "    df_base = pd.read_excel(path_to_single_file, skiprows=28, usecols=\"I:AU\")\n",
    "    datatime_now = datetime.now().strftime(\"%d%m%Y %H%M%S\")\n",
    "    df_base.to_excel(f'files/{file}_modified_{datatime_now}_for_df.xlsx')"
   ]
  }
 ],
 "metadata": {
  "kernelspec": {
   "display_name": "Python 3.10.1 64-bit",
   "language": "python",
   "name": "python3"
  },
  "language_info": {
   "codemirror_mode": {
    "name": "ipython",
    "version": 2
   },
   "file_extension": ".py",
   "mimetype": "text/x-python",
   "name": "python",
   "nbconvert_exporter": "python",
   "pygments_lexer": "ipython2",
   "version": "3.10.1"
  },
  "vscode": {
   "interpreter": {
    "hash": "c97e36f5c1aa02871b4149eafcab2ec871d39d20911a3254ab29c2172503796d"
   }
  }
 },
 "nbformat": 4,
 "nbformat_minor": 0
}
